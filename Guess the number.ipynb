{
 "cells": [
  {
   "cell_type": "code",
   "execution_count": null,
   "metadata": {},
   "outputs": [],
   "source": [
    "import numpy as np\n",
    "\n",
    "def game_core_v2(number):\n",
    "    number = np.random.randint(1,101)   # загадали число\n",
    "    print (\"Загадано число от 1 до 100\")\n",
    "    count = 1 #задали счетчик поторений\n",
    "    min = 1  # задали минимум в повторениях\n",
    "    max= 101 # задали максимум в повторениях\n",
    "    predict = np.random.randint(1, 101) # ввыбрали первый вариант угадыаемого числа\n",
    "    while number != predict: # цикл перебора вариантов\n",
    "        count+=1 # увеличиваем счетчик\n",
    "        if number > predict:\n",
    "            min = predict # уменьшаем диапазон вариантов меньше искомого\n",
    "            predict = np.random.randint(min,max)\n",
    "        elif number < predict:\n",
    "            max = predict # уменьшаем диапазон вариантов больше искомого\n",
    "            predict = np.random.randint(min, max)   \n",
    "    return(count) # выход из цикла, если угадали\n",
    "\n",
    "game_core_v2(number)"
   ]
  }
 ],
 "metadata": {
  "kernelspec": {
   "display_name": "Python 3",
   "language": "python",
   "name": "python3"
  },
  "language_info": {
   "codemirror_mode": {
    "name": "ipython",
    "version": 3
   },
   "file_extension": ".py",
   "mimetype": "text/x-python",
   "name": "python",
   "nbconvert_exporter": "python",
   "pygments_lexer": "ipython3",
   "version": "3.8.5"
  }
 },
 "nbformat": 4,
 "nbformat_minor": 4
}
